{
 "cells": [
  {
   "cell_type": "code",
   "execution_count": 1,
   "metadata": {
    "colab": {
     "base_uri": "https://localhost:8080/",
     "height": 34
    },
    "colab_type": "code",
    "id": "7YLg9K8sW7xR",
    "outputId": "f79487fd-b4c7-464f-b3bb-440033bc86e2"
   },
   "outputs": [
    {
     "name": "stderr",
     "output_type": "stream",
     "text": [
      "Using TensorFlow backend.\n"
     ]
    }
   ],
   "source": [
    "from keras.datasets import mnist"
   ]
  },
  {
   "cell_type": "code",
   "execution_count": 0,
   "metadata": {
    "colab": {},
    "colab_type": "code",
    "id": "wnUyQM8oW7xs"
   },
   "outputs": [],
   "source": [
    "(train_data, train_target),(test_data,test_target)=mnist.load_data()"
   ]
  },
  {
   "cell_type": "code",
   "execution_count": 0,
   "metadata": {
    "colab": {},
    "colab_type": "code",
    "id": "7OMVpM5hW7x6"
   },
   "outputs": [],
   "source": [
    "from tensorflow.keras.models import Sequential"
   ]
  },
  {
   "cell_type": "code",
   "execution_count": 0,
   "metadata": {
    "colab": {},
    "colab_type": "code",
    "id": "Mb_HA-oIW7yS"
   },
   "outputs": [],
   "source": [
    "from tensorflow.keras.layers import Dense"
   ]
  },
  {
   "cell_type": "code",
   "execution_count": 0,
   "metadata": {
    "colab": {},
    "colab_type": "code",
    "id": "KDIPLi8jW7yh"
   },
   "outputs": [],
   "source": [
    "from tensorflow.keras.layers import Flatten, Dropout"
   ]
  },
  {
   "cell_type": "code",
   "execution_count": 0,
   "metadata": {
    "colab": {},
    "colab_type": "code",
    "id": "QFGbafd2W7yu"
   },
   "outputs": [],
   "source": [
    "model=Sequential()"
   ]
  },
  {
   "cell_type": "code",
   "execution_count": 0,
   "metadata": {
    "colab": {},
    "colab_type": "code",
    "id": "y-OoQxOCW7y7"
   },
   "outputs": [],
   "source": [
    "model.add(Flatten(input_shape=(28,28)))"
   ]
  },
  {
   "cell_type": "code",
   "execution_count": 8,
   "metadata": {
    "colab": {
     "base_uri": "https://localhost:8080/",
     "height": 420
    },
    "colab_type": "code",
    "id": "xU9JhPd9W7zQ",
    "outputId": "d972496f-6994-473c-b5eb-ecb5c8fd91f5"
   },
   "outputs": [
    {
     "name": "stdout",
     "output_type": "stream",
     "text": [
      "Model: \"sequential\"\n",
      "_________________________________________________________________\n",
      "Layer (type)                 Output Shape              Param #   \n",
      "=================================================================\n",
      "flatten (Flatten)            (None, 784)               0         \n",
      "_________________________________________________________________\n",
      "dense (Dense)                (None, 512)               401920    \n",
      "_________________________________________________________________\n",
      "dropout (Dropout)            (None, 512)               0         \n",
      "_________________________________________________________________\n",
      "dense_1 (Dense)              (None, 256)               131328    \n",
      "_________________________________________________________________\n",
      "dropout_1 (Dropout)          (None, 256)               0         \n",
      "_________________________________________________________________\n",
      "dense_2 (Dense)              (None, 128)               32896     \n",
      "_________________________________________________________________\n",
      "dropout_2 (Dropout)          (None, 128)               0         \n",
      "_________________________________________________________________\n",
      "dense_3 (Dense)              (None, 10)                1290      \n",
      "=================================================================\n",
      "Total params: 567,434\n",
      "Trainable params: 567,434\n",
      "Non-trainable params: 0\n",
      "_________________________________________________________________\n"
     ]
    }
   ],
   "source": [
    "model.add(Dense(512,activation='relu'))\n",
    "model.add(Dropout(0.5))\n",
    "model.add(Dense(256,activation='relu'))\n",
    "model.add(Dropout(0.5))\n",
    "model.add(Dense(128,activation='relu'))\n",
    "model.add(Dropout(0.5))\n",
    "model.add(Dense(10,activation='softmax'))\n",
    "\n",
    "model.compile(loss='categorical_crossentropy',optimizer='adam',metrics=['accuracy'])\n",
    "model.summary()"
   ]
  },
  {
   "cell_type": "code",
   "execution_count": 0,
   "metadata": {
    "colab": {},
    "colab_type": "code",
    "id": "L1kr1K-hW7zf"
   },
   "outputs": [],
   "source": [
    "new_train_data=train_data/255.0\n",
    "new_test_data=train_data/255.0\n",
    "#normalizing- images by dividing 255"
   ]
  },
  {
   "cell_type": "code",
   "execution_count": 10,
   "metadata": {
    "colab": {
     "base_uri": "https://localhost:8080/",
     "height": 118
    },
    "colab_type": "code",
    "id": "jHpvldorW7zx",
    "outputId": "f6a4b888-88e1-4594-a854-af0096c9ed4a"
   },
   "outputs": [
    {
     "name": "stdout",
     "output_type": "stream",
     "text": [
      "[5 0 4 1 9]\n",
      "[[0. 0. 0. 0. 0. 1. 0. 0. 0. 0.]\n",
      " [1. 0. 0. 0. 0. 0. 0. 0. 0. 0.]\n",
      " [0. 0. 0. 0. 1. 0. 0. 0. 0. 0.]\n",
      " [0. 1. 0. 0. 0. 0. 0. 0. 0. 0.]\n",
      " [0. 0. 0. 0. 0. 0. 0. 0. 0. 1.]]\n"
     ]
    }
   ],
   "source": [
    "from keras.utils import np_utils\n",
    "\n",
    "new_train_target=np_utils.to_categorical(train_target)\n",
    "print(train_target[:5])\n",
    "print(new_train_target[:5])"
   ]
  },
  {
   "cell_type": "code",
   "execution_count": 11,
   "metadata": {
    "colab": {
     "base_uri": "https://localhost:8080/",
     "height": 709
    },
    "colab_type": "code",
    "id": "IEFEjAg0W7z9",
    "outputId": "744b5524-915e-47e8-c4b5-405099d8f6c9"
   },
   "outputs": [
    {
     "name": "stdout",
     "output_type": "stream",
     "text": [
      "Epoch 1/20\n",
      "1500/1500 [==============================] - 4s 3ms/step - loss: 0.4958 - accuracy: 0.8491 - val_loss: 0.1530 - val_accuracy: 0.9552\n",
      "Epoch 2/20\n",
      "1500/1500 [==============================] - 4s 3ms/step - loss: 0.2475 - accuracy: 0.9310 - val_loss: 0.1219 - val_accuracy: 0.9652\n",
      "Epoch 3/20\n",
      "1500/1500 [==============================] - 4s 3ms/step - loss: 0.2041 - accuracy: 0.9439 - val_loss: 0.1156 - val_accuracy: 0.9672\n",
      "Epoch 4/20\n",
      "1500/1500 [==============================] - 4s 3ms/step - loss: 0.1790 - accuracy: 0.9498 - val_loss: 0.1018 - val_accuracy: 0.9711\n",
      "Epoch 5/20\n",
      "1500/1500 [==============================] - 4s 3ms/step - loss: 0.1640 - accuracy: 0.9546 - val_loss: 0.1001 - val_accuracy: 0.9722\n",
      "Epoch 6/20\n",
      "1500/1500 [==============================] - 4s 3ms/step - loss: 0.1523 - accuracy: 0.9575 - val_loss: 0.0950 - val_accuracy: 0.9728\n",
      "Epoch 7/20\n",
      "1500/1500 [==============================] - 4s 3ms/step - loss: 0.1395 - accuracy: 0.9616 - val_loss: 0.1007 - val_accuracy: 0.9726\n",
      "Epoch 8/20\n",
      "1500/1500 [==============================] - 4s 3ms/step - loss: 0.1321 - accuracy: 0.9641 - val_loss: 0.0893 - val_accuracy: 0.9768\n",
      "Epoch 9/20\n",
      "1500/1500 [==============================] - 4s 3ms/step - loss: 0.1234 - accuracy: 0.9661 - val_loss: 0.0913 - val_accuracy: 0.9753\n",
      "Epoch 10/20\n",
      "1500/1500 [==============================] - 5s 3ms/step - loss: 0.1186 - accuracy: 0.9666 - val_loss: 0.0948 - val_accuracy: 0.9747\n",
      "Epoch 11/20\n",
      "1500/1500 [==============================] - 4s 3ms/step - loss: 0.1176 - accuracy: 0.9682 - val_loss: 0.0957 - val_accuracy: 0.9753\n",
      "Epoch 12/20\n",
      "1500/1500 [==============================] - 4s 3ms/step - loss: 0.1101 - accuracy: 0.9700 - val_loss: 0.0833 - val_accuracy: 0.9772\n",
      "Epoch 13/20\n",
      "1500/1500 [==============================] - 4s 3ms/step - loss: 0.1047 - accuracy: 0.9716 - val_loss: 0.0816 - val_accuracy: 0.9781\n",
      "Epoch 14/20\n",
      "1500/1500 [==============================] - 4s 3ms/step - loss: 0.1057 - accuracy: 0.9710 - val_loss: 0.0885 - val_accuracy: 0.9765\n",
      "Epoch 15/20\n",
      "1500/1500 [==============================] - 4s 3ms/step - loss: 0.0938 - accuracy: 0.9732 - val_loss: 0.0896 - val_accuracy: 0.9793\n",
      "Epoch 16/20\n",
      "1500/1500 [==============================] - 4s 3ms/step - loss: 0.0977 - accuracy: 0.9733 - val_loss: 0.0963 - val_accuracy: 0.9772\n",
      "Epoch 17/20\n",
      "1500/1500 [==============================] - 4s 3ms/step - loss: 0.0919 - accuracy: 0.9747 - val_loss: 0.0816 - val_accuracy: 0.9799\n",
      "Epoch 18/20\n",
      "1500/1500 [==============================] - 4s 3ms/step - loss: 0.0907 - accuracy: 0.9755 - val_loss: 0.0969 - val_accuracy: 0.9793\n",
      "Epoch 19/20\n",
      "1500/1500 [==============================] - 4s 3ms/step - loss: 0.0931 - accuracy: 0.9747 - val_loss: 0.0904 - val_accuracy: 0.9783\n",
      "Epoch 20/20\n",
      "1500/1500 [==============================] - 4s 3ms/step - loss: 0.0814 - accuracy: 0.9776 - val_loss: 0.0988 - val_accuracy: 0.9782\n"
     ]
    }
   ],
   "source": [
    "train_infor=model.fit(new_train_data,new_train_target,epochs=20,validation_split=0.2)"
   ]
  },
  {
   "cell_type": "code",
   "execution_count": 12,
   "metadata": {
    "colab": {
     "base_uri": "https://localhost:8080/",
     "height": 279
    },
    "colab_type": "code",
    "id": "ZghDj-otW70M",
    "outputId": "f4bde5fc-7b44-4527-bbc8-1767cf437cc2"
   },
   "outputs": [
    {
     "data": {
      "image/png": "[encoded data removed]",
      "text/plain": [
       "<Figure size 432x288 with 1 Axes>"
      ]
     },
     "metadata": {
      "tags": []
     },
     "output_type": "display_data"
    }
   ],
   "source": [
    "from matplotlib  import pyplot as plt\n",
    "\n",
    "plt.plot(train_infor.history['loss'],'r')\n",
    "plt.plot(train_infor.history['val_loss'],'g')\n",
    "#target is to reduce the validation loss as low as possible\n",
    "plt.xlabel('# epochs')\n",
    "plt.xlabel('loss')\n",
    "plt.show()\n",
    "# validation loss rising when loss deminishing - over fit (biased on training data)\n",
    "# how to overcome - change architecture - e.g. no layers, optimizer, no of neurons\n",
    "#                   early stoping, stop at the point of over fit, means at the point of validation loss starts to rise up\n",
    "#                   add a drop out layer between two layers - drop out layers has probability e.g.: 0.25, inactivate 25% of the neurons in the input layer randomly, reduces the probability of becoming over fit"
   ]
  },
  {
   "cell_type": "code",
   "execution_count": 13,
   "metadata": {
    "colab": {
     "base_uri": "https://localhost:8080/",
     "height": 279
    },
    "colab_type": "code",
    "id": "_YFM5fZYW70f",
    "outputId": "8540cc06-48ee-47f3-d7dd-f1165d85276e"
   },
   "outputs": [
    {
     "data": {
      "image/png": "[encoded data removed]",
      "text/plain": [
       "<Figure size 432x288 with 1 Axes>"
      ]
     },
     "metadata": {
      "tags": []
     },
     "output_type": "display_data"
    }
   ],
   "source": [
    "plt.plot(train_infor.history['accuracy'],'r')\n",
    "plt.plot(train_infor.history['val_accuracy'],'g')\n",
    "# target is to increase the validation accuracy as high as possible \n",
    "plt.xlabel('# epochs')\n",
    "plt.xlabel('accuracy')\n",
    "plt.show()"
   ]
  },
  {
   "cell_type": "code",
   "execution_count": 0,
   "metadata": {
    "colab": {},
    "colab_type": "code",
    "id": "_OiChX6TW70s"
   },
   "outputs": [],
   "source": []
  }
 ],
 "metadata": {
  "accelerator": "GPU",
  "colab": {
   "collapsed_sections": [],
   "name": "1.1 Hand Written Digit Recognition using Feed-forward Neural network.ipynb",
   "provenance": []
  },
  "kernelspec": {
   "display_name": "Python 3",
   "language": "python",
   "name": "python3"
  },
  "language_info": {
   "codemirror_mode": {
    "name": "ipython",
    "version": 3
   },
   "file_extension": ".py",
   "mimetype": "text/x-python",
   "name": "python",
   "nbconvert_exporter": "python",
   "pygments_lexer": "ipython3",
   "version": "3.7.4"
  }
 },
 "nbformat": 4,
 "nbformat_minor": 1
}
