{
 "cells": [
  {
   "cell_type": "code",
   "execution_count": 4,
   "metadata": {},
   "outputs": [],
   "source": [
    "from keras.datasets import mnist\n",
    "\n",
    "(train_data, train_target),(test_data, test_target) = mnist.load_data()"
   ]
  },
  {
   "cell_type": "code",
   "execution_count": 6,
   "metadata": {},
   "outputs": [
    {
     "name": "stdout",
     "output_type": "stream",
     "text": [
      "Model: \"sequential_1\"\n",
      "_________________________________________________________________\n",
      "Layer (type)                 Output Shape              Param #   \n",
      "=================================================================\n",
      "flatten_1 (Flatten)          (None, 784)               0         \n",
      "_________________________________________________________________\n",
      "dense_1 (Dense)              (None, 512)               401920    \n",
      "_________________________________________________________________\n",
      "dropout_1 (Dropout)          (None, 512)               0         \n",
      "_________________________________________________________________\n",
      "dense_2 (Dense)              (None, 256)               131328    \n",
      "_________________________________________________________________\n",
      "dropout_2 (Dropout)          (None, 256)               0         \n",
      "_________________________________________________________________\n",
      "dense_3 (Dense)              (None, 128)               32896     \n",
      "_________________________________________________________________\n",
      "dropout_3 (Dropout)          (None, 128)               0         \n",
      "_________________________________________________________________\n",
      "dense_4 (Dense)              (None, 10)                1290      \n",
      "=================================================================\n",
      "Total params: 567,434\n",
      "Trainable params: 567,434\n",
      "Non-trainable params: 0\n",
      "_________________________________________________________________\n"
     ]
    }
   ],
   "source": [
    "from tensorflow.keras.models import Sequential\n",
    "from tensorflow.keras.layers import Dense\n",
    "from tensorflow.keras.layers import Flatten, Dropout\n",
    "\n",
    "model = Sequential()\n",
    "\n",
    "model.add(Flatten(input_shape = (28,28)))\n",
    "#coverting the 2D image to a column vector\n",
    "\n",
    "model.add(Dense(512, activation ='relu'))\n",
    "model.add(Dropout(0.5))\n",
    "model.add(Dense(256, activation ='relu'))\n",
    "model.add(Dropout(0.5))\n",
    "model.add(Dense(128, activation ='relu'))\n",
    "model.add(Dropout(0.5))\n",
    "model.add(Dense(10, activation ='softmax'))\n",
    "\n",
    "model.compile(loss= 'categorical_crossentropy', optimizer='adam', metrics =['accuracy'])\n",
    "model.summary()\n"
   ]
  },
  {
   "cell_type": "code",
   "execution_count": 7,
   "metadata": {},
   "outputs": [],
   "source": [
    "new_train_data=train_data/255.0\n",
    "new_test_data=test_data/255.0\n",
    "#Normalizing the images\n"
   ]
  },
  {
   "cell_type": "code",
   "execution_count": 8,
   "metadata": {},
   "outputs": [
    {
     "name": "stdout",
     "output_type": "stream",
     "text": [
      "[5 0 4 1 9]\n",
      "[[0. 0. 0. 0. 0. 1. 0. 0. 0. 0.]\n",
      " [1. 0. 0. 0. 0. 0. 0. 0. 0. 0.]\n",
      " [0. 0. 0. 0. 1. 0. 0. 0. 0. 0.]\n",
      " [0. 1. 0. 0. 0. 0. 0. 0. 0. 0.]\n",
      " [0. 0. 0. 0. 0. 0. 0. 0. 0. 1.]]\n"
     ]
    }
   ],
   "source": [
    "from keras.utils import np_utils\n",
    "\n",
    "new_train_target=np_utils.to_categorical(train_target)\n",
    "print(train_target[:5])\n",
    "print(new_train_target[:5])"
   ]
  },
  {
   "cell_type": "code",
   "execution_count": 9,
   "metadata": {},
   "outputs": [
    {
     "name": "stdout",
     "output_type": "stream",
     "text": [
      "Train on 48000 samples, validate on 12000 samples\n",
      "Epoch 1/20\n",
      "48000/48000 [==============================] - 16s 332us/sample - loss: 0.4953 - accuracy: 0.8511 - val_loss: 0.1720 - val_accuracy: 0.9517\n",
      "Epoch 2/20\n",
      "48000/48000 [==============================] - 14s 286us/sample - loss: 0.2461 - accuracy: 0.9325 - val_loss: 0.1328 - val_accuracy: 0.9622\n",
      "Epoch 3/20\n",
      "48000/48000 [==============================] - 13s 264us/sample - loss: 0.2050 - accuracy: 0.9457 - val_loss: 0.1069 - val_accuracy: 0.9707\n",
      "Epoch 4/20\n",
      "48000/48000 [==============================] - 13s 277us/sample - loss: 0.1728 - accuracy: 0.9518 - val_loss: 0.0986 - val_accuracy: 0.9720\n",
      "Epoch 5/20\n",
      "48000/48000 [==============================] - 16s 325us/sample - loss: 0.1575 - accuracy: 0.9573 - val_loss: 0.0942 - val_accuracy: 0.9728\n",
      "Epoch 6/20\n",
      "48000/48000 [==============================] - 15s 311us/sample - loss: 0.1470 - accuracy: 0.9604 - val_loss: 0.0945 - val_accuracy: 0.9737\n",
      "Epoch 7/20\n",
      "48000/48000 [==============================] - 12s 259us/sample - loss: 0.1353 - accuracy: 0.9623 - val_loss: 0.0943 - val_accuracy: 0.9741\n",
      "Epoch 8/20\n",
      "48000/48000 [==============================] - 13s 270us/sample - loss: 0.1297 - accuracy: 0.9646 - val_loss: 0.0926 - val_accuracy: 0.9754\n",
      "Epoch 9/20\n",
      "48000/48000 [==============================] - 12s 260us/sample - loss: 0.1213 - accuracy: 0.9665 - val_loss: 0.0974 - val_accuracy: 0.9758\n",
      "Epoch 10/20\n",
      "48000/48000 [==============================] - 13s 276us/sample - loss: 0.1211 - accuracy: 0.9674 - val_loss: 0.0918 - val_accuracy: 0.9760\n",
      "Epoch 11/20\n",
      "48000/48000 [==============================] - 14s 290us/sample - loss: 0.1145 - accuracy: 0.9693 - val_loss: 0.0924 - val_accuracy: 0.9765\n",
      "Epoch 12/20\n",
      "48000/48000 [==============================] - 13s 260us/sample - loss: 0.1105 - accuracy: 0.9692 - val_loss: 0.0915 - val_accuracy: 0.9767\n",
      "Epoch 13/20\n",
      "48000/48000 [==============================] - 13s 272us/sample - loss: 0.1039 - accuracy: 0.9715 - val_loss: 0.0942 - val_accuracy: 0.9770\n",
      "Epoch 14/20\n",
      "48000/48000 [==============================] - 13s 266us/sample - loss: 0.1006 - accuracy: 0.9725 - val_loss: 0.0919 - val_accuracy: 0.9772\n",
      "Epoch 15/20\n",
      "48000/48000 [==============================] - 13s 268us/sample - loss: 0.1048 - accuracy: 0.9716 - val_loss: 0.0939 - val_accuracy: 0.9776\n",
      "Epoch 16/20\n",
      "48000/48000 [==============================] - 13s 261us/sample - loss: 0.0952 - accuracy: 0.9741 - val_loss: 0.0959 - val_accuracy: 0.9784\n",
      "Epoch 17/20\n",
      "48000/48000 [==============================] - 14s 287us/sample - loss: 0.0945 - accuracy: 0.9745 - val_loss: 0.0896 - val_accuracy: 0.9783\n",
      "Epoch 18/20\n",
      "48000/48000 [==============================] - 15s 306us/sample - loss: 0.0925 - accuracy: 0.9757 - val_loss: 0.0930 - val_accuracy: 0.9777\n",
      "Epoch 19/20\n",
      "48000/48000 [==============================] - 13s 272us/sample - loss: 0.0933 - accuracy: 0.9745 - val_loss: 0.0907 - val_accuracy: 0.9782\n",
      "Epoch 20/20\n",
      "48000/48000 [==============================] - 14s 286us/sample - loss: 0.0832 - accuracy: 0.9769 - val_loss: 0.0933 - val_accuracy: 0.9795\n"
     ]
    }
   ],
   "source": [
    "train_infor=model.fit(new_train_data, new_train_target, epochs=20,validation_split=0.2)"
   ]
  },
  {
   "cell_type": "code",
   "execution_count": 11,
   "metadata": {},
   "outputs": [
    {
     "data": {
      "image/png": "[encoded data removed]",
      "text/plain": [
       "<Figure size 432x288 with 1 Axes>"
      ]
     },
     "metadata": {
      "needs_background": "light"
     },
     "output_type": "display_data"
    }
   ],
   "source": [
    "from matplotlib import pyplot as plt\n",
    "\n",
    "plt.plot(train_infor.history['loss'],'r')\n",
    "plt.plot(train_infor.history['val_loss'],'g')\n",
    "#goal is to reduce validation loss as much as possible\n",
    "\n",
    "plt.xlabel('# epochs')\n",
    "plt.ylabel('loss')\n",
    "plt.show()\n",
    "# validation loss rising when loss deminishing - over fit (biased on training data)\n",
    "# how to overcome - change architecture - e.g. no layers, optimizer, no of neurons\n",
    "#                   early stoping, stop at the point of over fit, means at the point of validation loss starts to rise up\n",
    "#                   add a drop out layer between two layers - drop out layers has probability e.g.: 0.25, inactivate 25% of the neurons in the input layer randomly, reduces the probability of becoming over fit"
   ]
  },
  {
   "cell_type": "code",
   "execution_count": null,
   "metadata": {},
   "outputs": [],
   "source": []
  }
 ],
 "metadata": {
  "kernelspec": {
   "display_name": "Python 3",
   "language": "python",
   "name": "python3"
  },
  "language_info": {
   "codemirror_mode": {
    "name": "ipython",
    "version": 3
   },
   "file_extension": ".py",
   "mimetype": "text/x-python",
   "name": "python",
   "nbconvert_exporter": "python",
   "pygments_lexer": "ipython3",
   "version": "3.7.4"
  }
 },
 "nbformat": 4,
 "nbformat_minor": 2
}
